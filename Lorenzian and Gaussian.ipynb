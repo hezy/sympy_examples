{
 "cells": [
  {
   "cell_type": "markdown",
   "metadata": {},
   "source": [
    "# Find the norm and HWHM for Lorenzian and Gaussian"
   ]
  },
  {
   "cell_type": "code",
   "execution_count": 14,
   "metadata": {},
   "outputs": [],
   "source": [
    "from sympy import init_printing, symbols, Integral, oo, exp, Eq, solve, Rational, latex\n",
    "from IPython.display import display\n",
    "init_printing(use_latex=True, latex_mode='equation*') "
   ]
  },
  {
   "cell_type": "code",
   "execution_count": 15,
   "metadata": {},
   "outputs": [],
   "source": [
    "x = symbols('x') \n",
    "gamma, sigma = symbols ('gamma sigma', positive=True)"
   ]
  },
  {
   "cell_type": "markdown",
   "metadata": {},
   "source": [
    "Define the Lorentzian function, without normalization\n",
    "\n",
    "https://en.wikipedia.org/wiki/Cauchy_distribution"
   ]
  },
  {
   "cell_type": "code",
   "execution_count": 16,
   "metadata": {},
   "outputs": [
    {
     "data": {
      "image/png": "[encoded data removed]",
      "text/latex": [
       "$$\\frac{1}{\\gamma^{2} + x^{2}}$$"
      ],
      "text/plain": [
       "   1   \n",
       "───────\n",
       " 2    2\n",
       "γ  + x "
      ]
     },
     "metadata": {},
     "output_type": "display_data"
    }
   ],
   "source": [
    "def lorentz(x, gamma):\n",
    "    return 1/(gamma**2 + x**2)\n",
    "\n",
    "display(lorentz(x,gamma))"
   ]
  },
  {
   "cell_type": "markdown",
   "metadata": {},
   "source": [
    "Finding the norm of the Lorentzian:"
   ]
  },
  {
   "cell_type": "code",
   "execution_count": 17,
   "metadata": {},
   "outputs": [
    {
     "data": {
      "image/png": "[encoded data removed]",
      "text/latex": [
       "$$\\int_{-\\infty}^{\\infty} \\frac{1}{\\gamma^{2} + x^{2}}\\, dx = \\frac{\\pi}{\\gamma}$$"
      ],
      "text/plain": [
       "∞                \n",
       "⌠                \n",
       "⎮     1         π\n",
       "⎮  ─────── dx = ─\n",
       "⎮   2    2      γ\n",
       "⎮  γ  + x        \n",
       "⌡                \n",
       "-∞               "
      ]
     },
     "metadata": {},
     "output_type": "display_data"
    }
   ],
   "source": [
    "L_int = Integral(lorentz(x,gamma), (x, -oo, oo))\n",
    "L_norm = L_int.doit()\n",
    "display(Eq(L_int, L_norm ))"
   ]
  },
  {
   "cell_type": "markdown",
   "metadata": {},
   "source": [
    "Calculating the half width at half maximum (HWHM) of the Lorenzian:"
   ]
  },
  {
   "cell_type": "code",
   "execution_count": 18,
   "metadata": {},
   "outputs": [
    {
     "data": {
      "image/png": "[encoded data removed]",
      "text/latex": [
       "$$\\frac{1}{\\gamma^{2} + x^{2}} = \\frac{1}{2 \\gamma^{2}}$$"
      ],
      "text/plain": [
       "   1       1  \n",
       "─────── = ────\n",
       " 2    2      2\n",
       "γ  + x    2⋅γ "
      ]
     },
     "metadata": {},
     "output_type": "display_data"
    },
    {
     "data": {
      "image/png": "[encoded data removed]",
      "text/latex": [
       "$$\\left [ - \\gamma, \\quad \\gamma\\right ]$$"
      ],
      "text/plain": [
       "[-γ, γ]"
      ]
     },
     "metadata": {},
     "output_type": "display_data"
    }
   ],
   "source": [
    "L_max = lorentz(0,gamma)\n",
    "L_HWHM = Eq(lorentz(x,gamma),(Rational(1,2)*L_max))\n",
    "display(L_HWHM)\n",
    "display(solve(L_HWHM, x))"
   ]
  },
  {
   "cell_type": "markdown",
   "metadata": {},
   "source": [
    "Define the Gaussian function, without normalization\n",
    "\n",
    "https://en.wikipedia.org/wiki/Normal_distribution"
   ]
  },
  {
   "cell_type": "code",
   "execution_count": 19,
   "metadata": {},
   "outputs": [
    {
     "data": {
      "image/png": "[encoded data removed]",
      "text/latex": [
       "$$e^{- \\frac{x^{2}}{2 \\sigma^{2}}}$$"
      ],
      "text/plain": [
       "   2 \n",
       " -x  \n",
       " ────\n",
       "    2\n",
       " 2⋅σ \n",
       "ℯ    "
      ]
     },
     "metadata": {},
     "output_type": "display_data"
    }
   ],
   "source": [
    "def gauss(x,sigma):\n",
    "    return exp(-x**2/2/sigma**2)\n",
    "\n",
    "display(gauss(x,sigma))"
   ]
  },
  {
   "cell_type": "markdown",
   "metadata": {},
   "source": [
    "Finding the norm of the Gaussian:"
   ]
  },
  {
   "cell_type": "code",
   "execution_count": 20,
   "metadata": {},
   "outputs": [
    {
     "data": {
      "image/png": "[encoded data removed]",
      "text/latex": [
       "$$\\int_{-\\infty}^{\\infty} e^{- \\frac{x^{2}}{2 \\sigma^{2}}}\\, dx = \\sqrt{2} \\sqrt{\\pi} \\sigma$$"
      ],
      "text/plain": [
       "∞                    \n",
       "⌠                    \n",
       "⎮     2              \n",
       "⎮   -x               \n",
       "⎮   ────             \n",
       "⎮      2             \n",
       "⎮   2⋅σ              \n",
       "⎮  ℯ     dx = √2⋅√π⋅σ\n",
       "⌡                    \n",
       "-∞                   "
      ]
     },
     "metadata": {},
     "output_type": "display_data"
    }
   ],
   "source": [
    "G_int = Integral(gauss(x,sigma), (x, -oo, oo))\n",
    "G_norm = G_int.doit()\n",
    "display(Eq(G_int, G_norm))"
   ]
  },
  {
   "cell_type": "markdown",
   "metadata": {},
   "source": [
    "Calculating the half width at half maximum (HWHM) of a Gaussian"
   ]
  },
  {
   "cell_type": "code",
   "execution_count": 21,
   "metadata": {},
   "outputs": [
    {
     "data": {
      "image/png": "[encoded data removed]",
      "text/latex": [
       "$$e^{- \\frac{x^{2}}{2 \\sigma^{2}}} = \\frac{1}{2}$$"
      ],
      "text/plain": [
       "   2       \n",
       " -x        \n",
       " ────      \n",
       "    2      \n",
       " 2⋅σ       \n",
       "ℯ     = 1/2"
      ]
     },
     "metadata": {},
     "output_type": "display_data"
    },
    {
     "data": {
      "image/png": "[encoded data removed]",
      "text/latex": [
       "$$\\left [ - \\sqrt{2} \\sigma \\sqrt{\\log{\\left (2 \\right )}}, \\quad \\sqrt{2} \\sigma \\sqrt{\\log{\\left (2 \\right )}}\\right ]$$"
      ],
      "text/plain": [
       "⎡        ________         ________⎤\n",
       "⎣-√2⋅σ⋅╲╱ log(2) , √2⋅σ⋅╲╱ log(2) ⎦"
      ]
     },
     "metadata": {},
     "output_type": "display_data"
    }
   ],
   "source": [
    "G_max = gauss(0, sigma)\n",
    "G_HWHM = Eq(gauss(x,sigma),Rational(1,2)*G_max)\n",
    "display(G_HWHM)\n",
    "display(solve(G_HWHM, x))"
   ]
  }
 ],
 "metadata": {
  "kernelspec": {
   "display_name": "Python 3 (ipykernel)",
   "language": "python",
   "name": "python3"
  },
  "language_info": {
   "codemirror_mode": {
    "name": "ipython",
    "version": 3
   },
   "file_extension": ".py",
   "mimetype": "text/x-python",
   "name": "python",
   "nbconvert_exporter": "python",
   "pygments_lexer": "ipython3",
   "version": "3.9.7"
  }
 },
 "nbformat": 4,
 "nbformat_minor": 4
}
