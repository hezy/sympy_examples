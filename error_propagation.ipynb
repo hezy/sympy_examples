{
 "cells": [
  {
   "cell_type": "markdown",
   "metadata": {},
   "source": [
    "# Error propagation\n",
    "\n",
    "Estimate the error of a function according to the errors of its vaiables\n",
    "\n",
    "https://en.wikipedia.org/wiki/Propagation_of_uncertainty"
   ]
  },
  {
   "cell_type": "markdown",
   "metadata": {},
   "source": [
    "Importing libraries"
   ]
  },
  {
   "cell_type": "code",
   "execution_count": 1,
   "metadata": {},
   "outputs": [],
   "source": [
    "from sympy import init_printing, Function, symbols, Symbol, Derivative, sqrt, log, Eq\n",
    "from IPython.display import display\n",
    "init_printing(use_latex=True, latex_mode='equation*') "
   ]
  },
  {
   "cell_type": "markdown",
   "metadata": {},
   "source": [
    "Define variables"
   ]
  },
  {
   "cell_type": "code",
   "execution_count": 2,
   "metadata": {},
   "outputs": [],
   "source": [
    "F = Function('F')\n",
    "\n",
    "f, x, b_s, b_0, b_x = symbols ('f, x, \\\\beta_s, \\\\beta_0, \\\\beta_x')\n",
    "\n",
    "Df = Symbol('\\Delta f')\n",
    "Dx = Symbol('\\Delta x')\n",
    "Db = Symbol('\\Delta \\\\beta')"
   ]
  },
  {
   "cell_type": "markdown",
   "metadata": {},
   "source": [
    "Define a mathematical function $F(x, \\beta_s, \\beta_0, \\beta_t)$ :"
   ]
  },
  {
   "cell_type": "code",
   "execution_count": 3,
   "metadata": {},
   "outputs": [
    {
     "data": {
      "image/png": "[encoded data removed]",
      "text/latex": [
       "$$f = \\frac{\\log{\\left (\\frac{\\beta_0 - \\beta_s}{- \\beta_s + \\beta_x} \\right )}}{x}$$"
      ],
      "text/plain": [
       "       ⎛\\beta₀ - \\betaₛ ⎞\n",
       "    log⎜────────────────⎟\n",
       "       ⎝-\\betaₛ + \\betaₓ⎠\n",
       "f = ─────────────────────\n",
       "              x          "
      ]
     },
     "metadata": {},
     "output_type": "display_data"
    }
   ],
   "source": [
    "variables = (x, b_s, b_0, b_x)\n",
    "\n",
    "deltadict =\t{x: Dx, b_s: Db, b_0: Db, b_x: Db}\n",
    "\n",
    "F = 1/x * log( (b_0 - b_s) / (b_x - b_s) )\n",
    "\n",
    "display(Eq(f,F))"
   ]
  },
  {
   "cell_type": "markdown",
   "metadata": {},
   "source": [
    "Calculate the partial derevitives of the function G for each of its variables, sum up the squares of the obtained derivatives:"
   ]
  },
  {
   "cell_type": "code",
   "execution_count": 4,
   "metadata": {},
   "outputs": [
    {
     "data": {
      "image/png": "[encoded data removed]",
      "text/latex": [
       "$$\\frac{d}{d x} f = - \\frac{\\log{\\left (\\frac{\\beta_0 - \\beta_s}{- \\beta_s + \\beta_x} \\right )}}{x^{2}}$$"
      ],
      "text/plain": [
       "            ⎛\\beta₀ - \\betaₛ ⎞ \n",
       "        -log⎜────────────────⎟ \n",
       "d           ⎝-\\betaₛ + \\betaₓ⎠ \n",
       "──(f) = ───────────────────────\n",
       "dx                  2          \n",
       "                   x           "
      ]
     },
     "metadata": {},
     "output_type": "display_data"
    },
    {
     "data": {
      "image/png": "[encoded data removed]",
      "text/latex": [
       "$$\\frac{d}{d \\beta_s} f = \\frac{\\left(- \\beta_s + \\beta_x\\right) \\left(\\frac{\\beta_0 - \\beta_s}{\\left(- \\beta_s + \\beta_x\\right)^{2}} - \\frac{1}{- \\beta_s + \\beta_x}\\right)}{x \\left(\\beta_0 - \\beta_s\\right)}$$"
      ],
      "text/plain": [
       "                                ⎛  \\beta₀ - \\betaₛ            1        ⎞\n",
       "             (-\\betaₛ + \\betaₓ)⋅⎜─────────────────── - ────────────────⎟\n",
       "                                ⎜                  2   -\\betaₛ + \\betaₓ⎟\n",
       "   d                            ⎝(-\\betaₛ + \\betaₓ)                    ⎠\n",
       "───────(f) = ───────────────────────────────────────────────────────────\n",
       "d\\betaₛ                          x⋅(\\beta₀ - \\betaₛ)                    "
      ]
     },
     "metadata": {},
     "output_type": "display_data"
    },
    {
     "data": {
      "image/png": "[encoded data removed]",
      "text/latex": [
       "$$\\frac{d}{d \\beta_0} f = \\frac{1}{x \\left(\\beta_0 - \\beta_s\\right)}$$"
      ],
      "text/plain": [
       "   d                  1         \n",
       "───────(f) = ───────────────────\n",
       "d\\beta₀      x⋅(\\beta₀ - \\betaₛ)"
      ]
     },
     "metadata": {},
     "output_type": "display_data"
    },
    {
     "data": {
      "image/png": "[encoded data removed]",
      "text/latex": [
       "$$\\frac{d}{d \\beta_x} f = - \\frac{1}{x \\left(- \\beta_s + \\beta_x\\right)}$$"
      ],
      "text/plain": [
       "   d                 -1          \n",
       "───────(f) = ────────────────────\n",
       "d\\betaₓ      x⋅(-\\betaₛ + \\betaₓ)"
      ]
     },
     "metadata": {},
     "output_type": "display_data"
    }
   ],
   "source": [
    "f_sum_squares = 0\n",
    "F_sum_squares = 0\n",
    "\n",
    "for variable in variables:\n",
    "    display(Eq(Derivative(f, variable), Derivative(F, variable).doit()))\n",
    "    f_sum_squares = f_sum_squares + (Derivative(f, variable)) * (deltadict[variable])**2\n",
    "    F_sum_squares = F_sum_squares + (Derivative(F, variable)) * (deltadict[variable])**2"
   ]
  },
  {
   "cell_type": "markdown",
   "metadata": {},
   "source": [
    "The square root of the sum is the estimated error of the function F"
   ]
  },
  {
   "cell_type": "code",
   "execution_count": 5,
   "metadata": {},
   "outputs": [
    {
     "data": {
      "image/png": "[encoded data removed]",
      "text/latex": [
       "$$\\Delta f = \\sqrt{\\Delta \\beta^{2} \\frac{d}{d \\beta_0} f + \\Delta \\beta^{2} \\frac{d}{d \\beta_s} f + \\Delta \\beta^{2} \\frac{d}{d \\beta_x} f + \\Delta x^{2} \\frac{d}{d x} f}$$"
      ],
      "text/plain": [
       "               _______________________________________________________________\n",
       "              ╱             2    d                     2    d                 \n",
       "\\Delta f =   ╱  \\Delta \\beta ⋅───────(f) + \\Delta \\beta ⋅───────(f) + \\Delta \\\n",
       "           ╲╱                 d\\beta₀                    d\\betaₛ              \n",
       "\n",
       "___________________________________\n",
       "    2    d                 2 d     \n",
       "beta ⋅───────(f) + \\Delta x ⋅──(f) \n",
       "      d\\betaₓ                dx    "
      ]
     },
     "metadata": {},
     "output_type": "display_data"
    },
    {
     "data": {
      "image/png": "[encoded data removed]",
      "text/latex": [
       "$$\\Delta f = \\sqrt{- \\frac{\\Delta \\beta^{2}}{x \\left(- \\beta_s + \\beta_x\\right)} + \\frac{\\Delta \\beta^{2} \\left(- \\beta_s + \\beta_x\\right) \\left(\\frac{\\beta_0 - \\beta_s}{\\left(- \\beta_s + \\beta_x\\right)^{2}} - \\frac{1}{- \\beta_s + \\beta_x}\\right)}{x \\left(\\beta_0 - \\beta_s\\right)} + \\frac{\\Delta \\beta^{2}}{x \\left(\\beta_0 - \\beta_s\\right)} - \\frac{\\Delta x^{2} \\log{\\left (\\frac{\\beta_0 - \\beta_s}{- \\beta_s + \\beta_x} \\right )}}{x^{2}}}$$"
      ],
      "text/plain": [
       "                   ___________________________________________________________\n",
       "                  ╱                                      2                    \n",
       "                 ╱                           \\Delta \\beta ⋅(-\\betaₛ + \\betaₓ)⋅\n",
       "                ╱                    2                                        \n",
       "               ╱         \\Delta \\beta                                         \n",
       "\\Delta f =    ╱     - ──────────────────── + ─────────────────────────────────\n",
       "             ╱        x⋅(-\\betaₛ + \\betaₓ)                              x⋅(\\be\n",
       "           ╲╱                                                                 \n",
       "\n",
       "______________________________________________________________________________\n",
       "⎛  \\beta₀ - \\betaₛ            1        ⎞                                      \n",
       "⎜─────────────────── - ────────────────⎟                                 2    \n",
       "⎜                  2   -\\betaₛ + \\betaₓ⎟                  2      \\Delta x ⋅log\n",
       "⎝(-\\betaₛ + \\betaₓ)                    ⎠      \\Delta \\beta                    \n",
       "──────────────────────────────────────── + ─────────────────── - ─────────────\n",
       "ta₀ - \\betaₛ)                              x⋅(\\beta₀ - \\betaₛ)                \n",
       "                                                                              \n",
       "\n",
       "___________________\n",
       "                   \n",
       "⎛\\beta₀ - \\betaₛ ⎞ \n",
       "⎜────────────────⎟ \n",
       "⎝-\\betaₛ + \\betaₓ⎠ \n",
       "────────────────── \n",
       "   2               \n",
       "  x                "
      ]
     },
     "metadata": {},
     "output_type": "display_data"
    }
   ],
   "source": [
    "DF = sqrt (F_sum_squares)\n",
    "Df_ = sqrt (f_sum_squares)\n",
    "\n",
    "display(Eq(Df,Df_))\n",
    "display(Eq(Df,DF.doit()))"
   ]
  },
  {
   "cell_type": "code",
   "execution_count": 6,
   "metadata": {},
   "outputs": [
    {
     "data": {
      "image/png": "[encoded data removed]",
      "text/latex": [
       "$$0.00577622650466621$$"
      ],
      "text/plain": [
       "0.00577622650466621"
      ]
     },
     "metadata": {},
     "output_type": "display_data"
    },
    {
     "data": {
      "image/png": "[encoded data removed]",
      "text/latex": [
       "$$\\left(\\Delta \\beta^{2} \\frac{\\partial}{\\partial \\beta_0} \\frac{\\log{\\left (\\frac{\\beta_0 - \\beta_s}{- \\beta_s + \\beta_x} \\right )}}{x} + \\Delta \\beta^{2} \\frac{\\partial}{\\partial \\beta_s} \\frac{\\log{\\left (\\frac{\\beta_0 - \\beta_s}{- \\beta_s + \\beta_x} \\right )}}{x} + \\Delta \\beta^{2} \\frac{\\partial}{\\partial \\beta_x} \\frac{\\log{\\left (\\frac{\\beta_0 - \\beta_s}{- \\beta_s + \\beta_x} \\right )}}{x} + \\Delta x^{2} \\frac{\\partial}{\\partial x} \\frac{\\log{\\left (\\frac{\\beta_0 - \\beta_s}{- \\beta_s + \\beta_x} \\right )}}{x}\\right)^{0.5}$$"
      ],
      "text/plain": [
       "                                                                              \n",
       "⎛                     ⎛   ⎛\\beta₀ - \\betaₛ ⎞⎞                        ⎛   ⎛\\bet\n",
       "⎜                     ⎜log⎜────────────────⎟⎟                        ⎜log⎜────\n",
       "⎜            2    ∂   ⎜   ⎝-\\betaₛ + \\betaₓ⎠⎟               2    ∂   ⎜   ⎝-\\be\n",
       "⎜\\Delta \\beta ⋅───────⎜─────────────────────⎟ + \\Delta \\beta ⋅───────⎜────────\n",
       "⎝              ∂\\beta₀⎝          x          ⎠                 ∂\\betaₛ⎝        \n",
       "\n",
       "                                                                              \n",
       "a₀ - \\betaₛ ⎞⎞                        ⎛   ⎛\\beta₀ - \\betaₛ ⎞⎞               ⎛ \n",
       "────────────⎟⎟                        ⎜log⎜────────────────⎟⎟               ⎜l\n",
       "taₛ + \\betaₓ⎠⎟               2    ∂   ⎜   ⎝-\\betaₛ + \\betaₓ⎠⎟           2 ∂ ⎜ \n",
       "─────────────⎟ + \\Delta \\beta ⋅───────⎜─────────────────────⎟ + \\Delta x ⋅──⎜─\n",
       "  x          ⎠                 ∂\\betaₓ⎝          x          ⎠             ∂x⎝ \n",
       "\n",
       "                      0.5\n",
       "  ⎛\\beta₀ - \\betaₛ ⎞⎞⎞   \n",
       "og⎜────────────────⎟⎟⎟   \n",
       "  ⎝-\\betaₛ + \\betaₓ⎠⎟⎟   \n",
       "────────────────────⎟⎟   \n",
       "         x          ⎠⎠   "
      ]
     },
     "metadata": {},
     "output_type": "display_data"
    }
   ],
   "source": [
    "F_num = F.evalf(subs={x:120, b_0:100, b_s:20, b_x:60})\n",
    "display(F_num)\n",
    "\n",
    "DF_num = DF.evalf(subs={x:120, Dx:1, b_0:100, b_s:20, b_x:60, Db:0.1})\n",
    "display(DF_num)"
   ]
  },
  {
   "cell_type": "code",
   "execution_count": null,
   "metadata": {},
   "outputs": [],
   "source": []
  }
 ],
 "metadata": {
  "kernelspec": {
   "display_name": "Python 3",
   "language": "python",
   "name": "python3"
  },
  "language_info": {
   "codemirror_mode": {
    "name": "ipython",
    "version": 3
   },
   "file_extension": ".py",
   "mimetype": "text/x-python",
   "name": "python",
   "nbconvert_exporter": "python",
   "pygments_lexer": "ipython3",
   "version": "3.7.2"
  }
 },
 "nbformat": 4,
 "nbformat_minor": 2
}
