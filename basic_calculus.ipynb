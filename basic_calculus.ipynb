{
 "cells": [
  {
   "cell_type": "code",
   "execution_count": 1,
   "metadata": {},
   "outputs": [],
   "source": [
    "from sympy import init_printing, symbols, Integral, Derivative, sin, exp, Eq\n",
    "from IPython.display import display\n",
    "init_printing(use_latex=True, latex_mode='equation*') \n",
    "\n",
    "x = symbols('x')"
   ]
  },
  {
   "cell_type": "code",
   "execution_count": 2,
   "metadata": {},
   "outputs": [
    {
     "data": {
      "image/png": "[encoded data removed]",
      "text/latex": [
       "$$\\int e^{x} \\sin{\\left (x \\right )}\\, dx = \\frac{e^{x} \\sin{\\left (x \\right )}}{2} - \\frac{e^{x} \\cos{\\left (x \\right )}}{2}$$"
      ],
      "text/plain": [
       "⌠                 x           x       \n",
       "⎮  x             ℯ ⋅sin(x)   ℯ ⋅cos(x)\n",
       "⎮ ℯ ⋅sin(x) dx = ───────── - ─────────\n",
       "⌡                    2           2    "
      ]
     },
     "metadata": {},
     "output_type": "display_data"
    },
    {
     "data": {
      "image/png": "[encoded data removed]",
      "text/latex": [
       "$$\\frac{d}{d x} e^{x} \\sin{\\left (x \\right )} = e^{x} \\sin{\\left (x \\right )} + e^{x} \\cos{\\left (x \\right )}$$"
      ],
      "text/plain": [
       "d ⎛ x       ⎞    x           x       \n",
       "──⎝ℯ ⋅sin(x)⎠ = ℯ ⋅sin(x) + ℯ ⋅cos(x)\n",
       "dx                                   "
      ]
     },
     "metadata": {},
     "output_type": "display_data"
    }
   ],
   "source": [
    "int_x = Integral(sin(x)*exp(x), x)\n",
    "display(Eq(int_x, int_x.doit()))\n",
    "\n",
    "derv_x = Derivative(sin(x)*exp(x), x)\n",
    "display(Eq(derv_x, derv_x.doit()))"
   ]
  }
 ],
 "metadata": {
  "kernelspec": {
   "display_name": "Python 3",
   "language": "python",
   "name": "python3"
  },
  "language_info": {
   "codemirror_mode": {
    "name": "ipython",
    "version": 3
   },
   "file_extension": ".py",
   "mimetype": "text/x-python",
   "name": "python",
   "nbconvert_exporter": "python",
   "pygments_lexer": "ipython3",
   "version": "3.7.2"
  }
 },
 "nbformat": 4,
 "nbformat_minor": 2
}
