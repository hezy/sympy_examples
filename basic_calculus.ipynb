{
 "cells": [
  {
   "cell_type": "code",
   "execution_count": 1,
   "metadata": {},
   "outputs": [],
   "source": [
    "from sympy import init_printing, symbols, Integral, Derivative, sin, exp, Eq\n",
    "from IPython.display import display\n",
    "init_printing(use_latex=True, latex_mode='equation*') \n",
    "\n",
    "x = symbols('x')"
   ]
  },
  {
   "cell_type": "code",
   "execution_count": 2,
   "metadata": {},
   "outputs": [
    {
     "data": {
      "image/png": "[encoded data removed]",
      "text/latex": [
       "\\begin{equation*}\\int e^{x} \\sin{\\left(x \\right)}\\, dx = \\frac{e^{x} \\sin{\\left(x \\right)}}{2} - \\frac{e^{x} \\cos{\\left(x \\right)}}{2}\\end{equation*}"
      ],
      "text/plain": [
       "⌠                 x           x       \n",
       "⎮  x             ℯ ⋅sin(x)   ℯ ⋅cos(x)\n",
       "⎮ ℯ ⋅sin(x) dx = ───────── - ─────────\n",
       "⌡                    2           2    "
      ]
     },
     "metadata": {},
     "output_type": "display_data"
    },
    {
     "data": {
      "image/png": "[encoded data removed]",
      "text/latex": [
       "\\begin{equation*}\\frac{d}{d x} e^{x} \\sin{\\left(x \\right)} = e^{x} \\sin{\\left(x \\right)} + e^{x} \\cos{\\left(x \\right)}\\end{equation*}"
      ],
      "text/plain": [
       "d ⎛ x       ⎞    x           x       \n",
       "──⎝ℯ ⋅sin(x)⎠ = ℯ ⋅sin(x) + ℯ ⋅cos(x)\n",
       "dx                                   "
      ]
     },
     "metadata": {},
     "output_type": "display_data"
    }
   ],
   "source": [
    "int_x = Integral(sin(x)*exp(x), x)\n",
    "display(Eq(int_x, int_x.doit()))\n",
    "\n",
    "derv_x = Derivative(sin(x)*exp(x), x)\n",
    "display(Eq(derv_x, derv_x.doit()))"
   ]
  }
 ],
 "metadata": {
  "kernelspec": {
   "display_name": "base",
   "language": "python",
   "name": "python3"
  },
  "language_info": {
   "codemirror_mode": {
    "name": "ipython",
    "version": 3
   },
   "file_extension": ".py",
   "mimetype": "text/x-python",
   "name": "python",
   "nbconvert_exporter": "python",
   "pygments_lexer": "ipython3",
   "version": "3.9.15"
  },
  "vscode": {
   "interpreter": {
    "hash": "e7dcbe0a3ba33df212a58217d5216c6b91e63efd6156f57d0c8ac9d14a3fc559"
   }
  }
 },
 "nbformat": 4,
 "nbformat_minor": 4
}
