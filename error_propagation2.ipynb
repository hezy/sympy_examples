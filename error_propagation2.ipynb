{
 "cells": [
  {
   "cell_type": "markdown",
   "metadata": {},
   "source": [
    "# Error propagation\n",
    "\n",
    "Estimate the error of a function according to the errors of its vaiables\n",
    "\n",
    "https://en.wikipedia.org/wiki/Propagation_of_uncertainty"
   ]
  },
  {
   "cell_type": "markdown",
   "metadata": {},
   "source": [
    "Importing libraries"
   ]
  },
  {
   "cell_type": "code",
   "execution_count": 1,
   "metadata": {},
   "outputs": [],
   "source": [
    "from sympy import init_printing, Function, symbols, Symbol, Derivative, sqrt, log, Eq, latex\n",
    "from IPython.display import display, Latex\n",
    "init_printing(use_latex=True, latex_mode='equation*') "
   ]
  },
  {
   "cell_type": "markdown",
   "metadata": {},
   "source": [
    "Define variables"
   ]
  },
  {
   "cell_type": "code",
   "execution_count": 2,
   "metadata": {},
   "outputs": [],
   "source": [
    "#f = Function('f')\n",
    "\n",
    "F, G, M_1, M_2, r = symbols ('F, G, M_1, M_2, r')\n",
    "\n",
    "DF = Symbol('\\Delta F')\n",
    "DM_1 = Symbol('\\Delta M_1')\n",
    "DM_2 = Symbol('\\Delta M_2')\n",
    "Dr = Symbol('\\Delta r')\n",
    "\n",
    "variables = (M_1, M_2, r)\n",
    "deltadict = {M_1: DM_1, M_2: DM_2, r: Dr}"
   ]
  },
  {
   "cell_type": "markdown",
   "metadata": {},
   "source": [
    "Define a mathematical function $F = f(M_1, M_2, r)$ :"
   ]
  },
  {
   "cell_type": "code",
   "execution_count": 8,
   "metadata": {},
   "outputs": [
    {
     "data": {
      "image/png": "[encoded data removed]",
      "text/latex": [
       "\\begin{equation*}F = \\frac{G M_{1} M_{2}}{r^{2}}\\end{equation*}"
      ],
      "text/plain": [
       "    G⋅M₁⋅M₂\n",
       "F = ───────\n",
       "        2  \n",
       "       r   "
      ]
     },
     "metadata": {},
     "output_type": "display_data"
    }
   ],
   "source": [
    "f = G * M_1 * M_2 / r**2\n",
    "\n",
    "display(Eq(F,f))"
   ]
  },
  {
   "cell_type": "markdown",
   "metadata": {},
   "source": [
    "Calculate the partial derevitives of the function G for each of its variables, sum up the squares of the obtained derivatives:"
   ]
  },
  {
   "cell_type": "code",
   "execution_count": 9,
   "metadata": {},
   "outputs": [
    {
     "data": {
      "image/png": "[encoded data removed]",
      "text/latex": [
       "\\begin{equation*}\\frac{d}{d M_{1}} F = \\frac{G M_{2}}{r^{2}}\\end{equation*}"
      ],
      "text/plain": [
       " d       G⋅M₂\n",
       "───(F) = ────\n",
       "dM₁        2 \n",
       "          r  "
      ]
     },
     "metadata": {},
     "output_type": "display_data"
    },
    {
     "data": {
      "image/png": "[encoded data removed]",
      "text/latex": [
       "\\begin{equation*}\\frac{d}{d M_{2}} F = \\frac{G M_{1}}{r^{2}}\\end{equation*}"
      ],
      "text/plain": [
       " d       G⋅M₁\n",
       "───(F) = ────\n",
       "dM₂        2 \n",
       "          r  "
      ]
     },
     "metadata": {},
     "output_type": "display_data"
    },
    {
     "data": {
      "image/png": "[encoded data removed]",
      "text/latex": [
       "\\begin{equation*}\\frac{d}{d r} F = - \\frac{2 G M_{1} M_{2}}{r^{3}}\\end{equation*}"
      ],
      "text/plain": [
       "d       -2⋅G⋅M₁⋅M₂ \n",
       "──(F) = ───────────\n",
       "dr            3    \n",
       "             r     "
      ]
     },
     "metadata": {},
     "output_type": "display_data"
    }
   ],
   "source": [
    "F_sum_squares = 0\n",
    "f_sum_squares = 0\n",
    "\n",
    "for variable in variables:\n",
    "    display(Eq(Derivative(F, variable), Derivative(f, variable).doit()))\n",
    "    f_sum_squares = f_sum_squares + (Derivative(f, variable))**2 * (deltadict[variable])**2\n",
    "    F_sum_squares = F_sum_squares + (Derivative(F, variable))**2 * (deltadict[variable])**2"
   ]
  },
  {
   "cell_type": "markdown",
   "metadata": {},
   "source": [
    "The square root of the sum is the estimated error of the function F"
   ]
  },
  {
   "cell_type": "code",
   "execution_count": 10,
   "metadata": {},
   "outputs": [
    {
     "data": {
      "image/png": "[encoded data removed]",
      "text/latex": [
       "\\begin{equation*}\\Delta F = \\sqrt{\\Delta M_1^{2} \\left(\\frac{d}{d M_{1}} F\\right)^{2} + \\Delta M_2^{2} \\left(\\frac{d}{d M_{2}} F\\right)^{2} + \\Delta r^{2} \\left(\\frac{d}{d r} F\\right)^{2}}\\end{equation*}"
      ],
      "text/plain": [
       "                ______________________________________________________________\n",
       "               ╱                    2                      2                  \n",
       "              ╱           2 ⎛ d    ⎞             2 ⎛ d    ⎞            2 ⎛d   \n",
       "\\Delta F =   ╱   \\Delta M₁ ⋅⎜───(F)⎟  + \\Delta M₂ ⋅⎜───(F)⎟  + \\Delta r ⋅⎜──(F\n",
       "           ╲╱               ⎝dM₁   ⎠               ⎝dM₂   ⎠              ⎝dr  \n",
       "\n",
       "____\n",
       "  2 \n",
       " ⎞  \n",
       ")⎟  \n",
       " ⎠  "
      ]
     },
     "metadata": {},
     "output_type": "display_data"
    },
    {
     "data": {
      "image/png": "[encoded data removed]",
      "text/latex": [
       "\\begin{equation*}\\Delta F = \\sqrt{\\frac{4 G^{2} M_{1}^{2} M_{2}^{2} \\Delta r^{2}}{r^{6}} + \\frac{G^{2} M_{1}^{2} \\Delta M_2^{2}}{r^{4}} + \\frac{G^{2} M_{2}^{2} \\Delta M_1^{2}}{r^{4}}}\\end{equation*}"
      ],
      "text/plain": [
       "                 _____________________________________________________________\n",
       "                ╱    2   2   2         2    2   2          2    2   2         \n",
       "               ╱  4⋅G ⋅M₁ ⋅M₂ ⋅\\Delta r    G ⋅M₁ ⋅\\Delta M₂    G ⋅M₂ ⋅\\Delta M\n",
       "\\Delta F =    ╱   ────────────────────── + ───────────────── + ───────────────\n",
       "             ╱               6                      4                   4     \n",
       "           ╲╱               r                      r                   r      \n",
       "\n",
       "___\n",
       " 2 \n",
       "₁  \n",
       "── \n",
       "   \n",
       "   "
      ]
     },
     "metadata": {},
     "output_type": "display_data"
    }
   ],
   "source": [
    "Df = sqrt (f_sum_squares)\n",
    "DF_ = sqrt (F_sum_squares)\n",
    "\n",
    "display(Eq(DF,DF_))\n",
    "display(Eq(DF,Df.doit()))"
   ]
  },
  {
   "cell_type": "code",
   "execution_count": 13,
   "metadata": {},
   "outputs": [
    {
     "data": {
      "text/latex": [
       "$$F = 1.98460658163434 \\cdot 10^{20} \\pm 2.21201107070851 \\cdot 10^{19}$$"
      ],
      "text/plain": [
       "<IPython.core.display.Latex object>"
      ]
     },
     "metadata": {},
     "output_type": "display_data"
    }
   ],
   "source": [
    "f_num = f.evalf(subs={G:6.67384e-11, M_1:5.97237e24, M_2:7.342e22, r:3.84e8})\n",
    "\n",
    "Df_num = Df.doit().evalf(subs={G:6.67384e-11, M_1:5.97237e24, DM_1:0.000001e24, M_2:7.342e22, DM_2:0.001e22, r:3.84e8, Dr:0.214e8})\n",
    "\n",
    "result = \"$$F = {} \\pm {}$$\".format(latex(f_num), latex(Df_num))\n",
    "display(Latex(result))"
   ]
  },
  {
   "cell_type": "code",
   "execution_count": null,
   "metadata": {},
   "outputs": [],
   "source": []
  }
 ],
 "metadata": {
  "kernelspec": {
   "display_name": "Python 3",
   "language": "python",
   "name": "python3"
  },
  "language_info": {
   "codemirror_mode": {
    "name": "ipython",
    "version": 3
   },
   "file_extension": ".py",
   "mimetype": "text/x-python",
   "name": "python",
   "nbconvert_exporter": "python",
   "pygments_lexer": "ipython3",
   "version": "3.7.3"
  }
 },
 "nbformat": 4,
 "nbformat_minor": 4
}
