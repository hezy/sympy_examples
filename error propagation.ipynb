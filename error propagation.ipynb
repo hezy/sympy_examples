{
 "cells": [
  {
   "cell_type": "markdown",
   "metadata": {},
   "source": [
    "# Error propagation\n",
    "\n",
    "Estimate the error of a function according to the errors of its vaiables\n",
    "\n",
    "https://en.wikipedia.org/wiki/Propagation_of_uncertainty"
   ]
  },
  {
   "cell_type": "code",
   "execution_count": 2,
   "metadata": {},
   "outputs": [],
   "source": [
    "from sympy import init_printing, symbols, Derivative, sqrt, log, Eq\n",
    "from IPython.display import display\n",
    "init_printing(use_latex=True, latex_mode='equation*') \n",
    "\n",
    "g, Delta_g, t, theta_s, theta_0, theta_t, Delta_t, Delta_theta = symbols ('g, Delta_g, t, theta_s, theta_0, theta_t, Delta_t, Delta_theta')"
   ]
  },
  {
   "cell_type": "markdown",
   "metadata": {},
   "source": [
    "Define a mathematical function $G(t, \\theta_s, \\theta_0, \\theta_t)$ :"
   ]
  },
  {
   "cell_type": "code",
   "execution_count": 3,
   "metadata": {},
   "outputs": [
    {
     "data": {
      "image/png": "[encoded data removed]",
      "text/latex": [
       "$$g = \\frac{\\log{\\left (\\frac{\\theta_{0} - \\theta_{s}}{- \\theta_{s} + \\theta_{t}} \\right )}}{t}$$"
      ],
      "text/plain": [
       "       ⎛θ₀ - θₛ ⎞\n",
       "    log⎜────────⎟\n",
       "       ⎝-θₛ + θₜ⎠\n",
       "g = ─────────────\n",
       "          t      "
      ]
     },
     "metadata": {},
     "output_type": "display_data"
    }
   ],
   "source": [
    "variables = (t, theta_s, theta_0, theta_t)\n",
    "\n",
    "deltadict =\t{\n",
    "        t: Delta_t,\n",
    "        theta_s: Delta_theta,\n",
    "        theta_0: Delta_theta,\n",
    "        theta_t: Delta_theta}\n",
    "\n",
    "def G(*variables):\n",
    "    return 1/t * log( (theta_0 - theta_s) / (theta_t - theta_s) )\n",
    "\n",
    "display(Eq(g, G(*variables)))"
   ]
  },
  {
   "cell_type": "markdown",
   "metadata": {},
   "source": [
    "Calculate the partial derevitives of the function G for each of its variables, sum up the squares of the obtained derivatives:"
   ]
  },
  {
   "cell_type": "code",
   "execution_count": 4,
   "metadata": {},
   "outputs": [
    {
     "data": {
      "image/png": "[encoded data removed]",
      "text/latex": [
       "$$\\frac{d}{d t} g = - \\frac{\\log{\\left (\\frac{\\theta_{0} - \\theta_{s}}{- \\theta_{s} + \\theta_{t}} \\right )}}{t^{2}}$$"
      ],
      "text/plain": [
       "            ⎛θ₀ - θₛ ⎞ \n",
       "        -log⎜────────⎟ \n",
       "d           ⎝-θₛ + θₜ⎠ \n",
       "──(g) = ───────────────\n",
       "dt              2      \n",
       "               t       "
      ]
     },
     "metadata": {},
     "output_type": "display_data"
    },
    {
     "data": {
      "image/png": "[encoded data removed]",
      "text/latex": [
       "$$\\frac{d}{d \\theta_{s}} g = \\frac{\\left(- \\theta_{s} + \\theta_{t}\\right) \\left(\\frac{\\theta_{0} - \\theta_{s}}{\\left(- \\theta_{s} + \\theta_{t}\\right)^{2}} - \\frac{1}{- \\theta_{s} + \\theta_{t}}\\right)}{t \\left(\\theta_{0} - \\theta_{s}\\right)}$$"
      ],
      "text/plain": [
       "                    ⎛  θ₀ - θₛ        1    ⎞\n",
       "         (-θₛ + θₜ)⋅⎜─────────── - ────────⎟\n",
       "                    ⎜          2   -θₛ + θₜ⎟\n",
       " d                  ⎝(-θₛ + θₜ)            ⎠\n",
       "───(g) = ───────────────────────────────────\n",
       "dθₛ                  t⋅(θ₀ - θₛ)            "
      ]
     },
     "metadata": {},
     "output_type": "display_data"
    },
    {
     "data": {
      "image/png": "[encoded data removed]",
      "text/latex": [
       "$$\\frac{d}{d \\theta_{0}} g = \\frac{1}{t \\left(\\theta_{0} - \\theta_{s}\\right)}$$"
      ],
      "text/plain": [
       " d            1     \n",
       "───(g) = ───────────\n",
       "dθ₀      t⋅(θ₀ - θₛ)"
      ]
     },
     "metadata": {},
     "output_type": "display_data"
    },
    {
     "data": {
      "image/png": "[encoded data removed]",
      "text/latex": [
       "$$\\frac{d}{d \\theta_{t}} g = - \\frac{1}{t \\left(- \\theta_{s} + \\theta_{t}\\right)}$$"
      ],
      "text/plain": [
       " d           -1      \n",
       "───(g) = ────────────\n",
       "dθₜ      t⋅(-θₛ + θₜ)"
      ]
     },
     "metadata": {},
     "output_type": "display_data"
    }
   ],
   "source": [
    "g_sum_squares = 0\n",
    "G_sum_squares = 0\n",
    "\n",
    "for variable in variables:\n",
    "    g_derivative = Derivative(g,variable) \n",
    "    G_derivative = Derivative(G(*variables), variable)\n",
    "    display(Eq(g_derivative, G_derivative.doit()))\n",
    "    g_sum_squares = g_sum_squares + (g_derivative * deltadict[variable])**2\n",
    "    G_sum_squares = G_sum_squares + (G_derivative * deltadict[variable])**2"
   ]
  },
  {
   "cell_type": "markdown",
   "metadata": {},
   "source": [
    "The square root of the sum is the estimated error of the function G"
   ]
  },
  {
   "cell_type": "code",
   "execution_count": 5,
   "metadata": {},
   "outputs": [
    {
     "data": {
      "image/png": "[encoded data removed]",
      "text/latex": [
       "$$\\Delta_{g} = \\sqrt{\\Delta_{t}^{2} \\left(\\frac{d}{d t} g\\right)^{2} + \\Delta_{\\theta}^{2} \\left(\\frac{d}{d \\theta_{0}} g\\right)^{2} + \\Delta_{\\theta}^{2} \\left(\\frac{d}{d \\theta_{s}} g\\right)^{2} + \\Delta_{\\theta}^{2} \\left(\\frac{d}{d \\theta_{t}} g\\right)^{2}}$$"
      ],
      "text/plain": [
       "           ___________________________________________________________________\n",
       "          ╱            2                   2                   2              \n",
       "         ╱    2 ⎛d    ⎞          2 ⎛ d    ⎞          2 ⎛ d    ⎞          2 ⎛ d\n",
       "Δ_g =   ╱   Δₜ ⋅⎜──(g)⎟  + Δₜₕₑₜₐ ⋅⎜───(g)⎟  + Δₜₕₑₜₐ ⋅⎜───(g)⎟  + Δₜₕₑₜₐ ⋅⎜──\n",
       "      ╲╱        ⎝dt   ⎠            ⎝dθ₀   ⎠            ⎝dθₛ   ⎠            ⎝dθ\n",
       "\n",
       "_______\n",
       "     2 \n",
       "    ⎞  \n",
       "─(g)⎟  \n",
       "ₜ   ⎠  "
      ]
     },
     "metadata": {},
     "output_type": "display_data"
    },
    {
     "data": {
      "image/png": "[encoded data removed]",
      "text/latex": [
       "$$\\Delta_{g} = \\sqrt{\\frac{\\Delta_{t}^{2} \\log{\\left (\\frac{\\theta_{0} - \\theta_{s}}{- \\theta_{s} + \\theta_{t}} \\right )}^{2}}{t^{4}} + \\frac{\\Delta_{\\theta}^{2}}{t^{2} \\left(- \\theta_{s} + \\theta_{t}\\right)^{2}} + \\frac{\\Delta_{\\theta}^{2} \\left(- \\theta_{s} + \\theta_{t}\\right)^{2} \\left(\\frac{\\theta_{0} - \\theta_{s}}{\\left(- \\theta_{s} + \\theta_{t}\\right)^{2}} - \\frac{1}{- \\theta_{s} + \\theta_{t}}\\right)^{2}}{t^{2} \\left(\\theta_{0} - \\theta_{s}\\right)^{2}} + \\frac{\\Delta_{\\theta}^{2}}{t^{2} \\left(\\theta_{0} - \\theta_{s}\\right)^{2}}}$$"
      ],
      "text/plain": [
       "               _______________________________________________________________\n",
       "              ╱                                                               \n",
       "             ╱                                              2           2 ⎛  θ\n",
       "            ╱     2    2⎛θ₀ - θₛ ⎞                    Δₜₕₑₜₐ ⋅(-θₛ + θₜ) ⋅⎜───\n",
       "           ╱    Δₜ ⋅log ⎜────────⎟            2                           ⎜   \n",
       "          ╱             ⎝-θₛ + θₜ⎠      Δₜₕₑₜₐ                            ⎝(-θ\n",
       "Δ_g =    ╱      ────────────────── + ────────────── + ────────────────────────\n",
       "        ╱                4            2           2                    2      \n",
       "      ╲╱                t            t ⋅(-θₛ + θₜ)                    t ⋅(θ₀ -\n",
       "\n",
       "______________________________________\n",
       "                    2                 \n",
       "₀ - θₛ        1    ⎞                  \n",
       "──────── - ────────⎟                  \n",
       "       2   -θₛ + θₜ⎟             2    \n",
       "ₛ + θₜ)            ⎠       Δₜₕₑₜₐ     \n",
       "───────────────────── + ───────────── \n",
       "    2                    2          2 \n",
       " θₛ)                    t ⋅(θ₀ - θₛ)  "
      ]
     },
     "metadata": {},
     "output_type": "display_data"
    }
   ],
   "source": [
    "Delta_G = sqrt (G_sum_squares)\n",
    "Delta_g_ = sqrt (g_sum_squares)\n",
    "\n",
    "display(Eq(Delta_g,Delta_g_))\n",
    "display(Eq(Delta_g,Delta_G.doit()))"
   ]
  }
 ],
 "metadata": {
  "kernelspec": {
   "display_name": "Python 3",
   "language": "python",
   "name": "python3"
  },
  "language_info": {
   "codemirror_mode": {
    "name": "ipython",
    "version": 3
   },
   "file_extension": ".py",
   "mimetype": "text/x-python",
   "name": "python",
   "nbconvert_exporter": "python",
   "pygments_lexer": "ipython3",
   "version": "3.7.2"
  }
 },
 "nbformat": 4,
 "nbformat_minor": 2
}
